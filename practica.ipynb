{
 "cells": [
  {
   "cell_type": "code",
   "execution_count": null,
   "id": "8fe8ef94-0aff-465c-ac65-a7e4997c92b0",
   "metadata": {},
   "outputs": [],
   "source": [
    "import spacy"
   ]
  },
  {
   "cell_type": "code",
   "execution_count": null,
   "id": "27bc5e92-101e-47ca-854e-b9c4b28d179a",
   "metadata": {},
   "outputs": [
    {
     "name": "stdout",
     "output_type": "stream",
     "text": [
      "Requirement already satisfied: spacy in /Users/bdportilla1/Desktop/Bryant/MAESTRIA/Herramientas para IA/Semana 2/practica/1.3.2.1_scikit_learn/myenv/lib/python3.11/site-packages (3.7.4)\n",
      "Requirement already satisfied: spacy-legacy<3.1.0,>=3.0.11 in /Users/bdportilla1/Desktop/Bryant/MAESTRIA/Herramientas para IA/Semana 2/practica/1.3.2.1_scikit_learn/myenv/lib/python3.11/site-packages (from spacy) (3.0.12)\n",
      "Requirement already satisfied: spacy-loggers<2.0.0,>=1.0.0 in /Users/bdportilla1/Desktop/Bryant/MAESTRIA/Herramientas para IA/Semana 2/practica/1.3.2.1_scikit_learn/myenv/lib/python3.11/site-packages (from spacy) (1.0.5)\n",
      "Requirement already satisfied: murmurhash<1.1.0,>=0.28.0 in /Users/bdportilla1/Desktop/Bryant/MAESTRIA/Herramientas para IA/Semana 2/practica/1.3.2.1_scikit_learn/myenv/lib/python3.11/site-packages (from spacy) (1.0.10)\n",
      "Requirement already satisfied: cymem<2.1.0,>=2.0.2 in /Users/bdportilla1/Desktop/Bryant/MAESTRIA/Herramientas para IA/Semana 2/practica/1.3.2.1_scikit_learn/myenv/lib/python3.11/site-packages (from spacy) (2.0.8)\n",
      "Requirement already satisfied: preshed<3.1.0,>=3.0.2 in /Users/bdportilla1/Desktop/Bryant/MAESTRIA/Herramientas para IA/Semana 2/practica/1.3.2.1_scikit_learn/myenv/lib/python3.11/site-packages (from spacy) (3.0.9)\n",
      "Requirement already satisfied: thinc<8.3.0,>=8.2.2 in /Users/bdportilla1/Desktop/Bryant/MAESTRIA/Herramientas para IA/Semana 2/practica/1.3.2.1_scikit_learn/myenv/lib/python3.11/site-packages (from spacy) (8.2.3)\n",
      "Requirement already satisfied: wasabi<1.2.0,>=0.9.1 in /Users/bdportilla1/Desktop/Bryant/MAESTRIA/Herramientas para IA/Semana 2/practica/1.3.2.1_scikit_learn/myenv/lib/python3.11/site-packages (from spacy) (1.1.2)\n",
      "Requirement already satisfied: srsly<3.0.0,>=2.4.3 in /Users/bdportilla1/Desktop/Bryant/MAESTRIA/Herramientas para IA/Semana 2/practica/1.3.2.1_scikit_learn/myenv/lib/python3.11/site-packages (from spacy) (2.4.8)\n",
      "Requirement already satisfied: catalogue<2.1.0,>=2.0.6 in /Users/bdportilla1/Desktop/Bryant/MAESTRIA/Herramientas para IA/Semana 2/practica/1.3.2.1_scikit_learn/myenv/lib/python3.11/site-packages (from spacy) (2.0.10)\n",
      "Requirement already satisfied: weasel<0.4.0,>=0.1.0 in /Users/bdportilla1/Desktop/Bryant/MAESTRIA/Herramientas para IA/Semana 2/practica/1.3.2.1_scikit_learn/myenv/lib/python3.11/site-packages (from spacy) (0.3.4)\n",
      "Requirement already satisfied: typer<0.10.0,>=0.3.0 in /Users/bdportilla1/Desktop/Bryant/MAESTRIA/Herramientas para IA/Semana 2/practica/1.3.2.1_scikit_learn/myenv/lib/python3.11/site-packages (from spacy) (0.9.4)\n",
      "Requirement already satisfied: smart-open<7.0.0,>=5.2.1 in /Users/bdportilla1/Desktop/Bryant/MAESTRIA/Herramientas para IA/Semana 2/practica/1.3.2.1_scikit_learn/myenv/lib/python3.11/site-packages (from spacy) (6.4.0)\n",
      "Requirement already satisfied: tqdm<5.0.0,>=4.38.0 in /Users/bdportilla1/Desktop/Bryant/MAESTRIA/Herramientas para IA/Semana 2/practica/1.3.2.1_scikit_learn/myenv/lib/python3.11/site-packages (from spacy) (4.66.2)\n",
      "Requirement already satisfied: requests<3.0.0,>=2.13.0 in /Users/bdportilla1/Desktop/Bryant/MAESTRIA/Herramientas para IA/Semana 2/practica/1.3.2.1_scikit_learn/myenv/lib/python3.11/site-packages (from spacy) (2.31.0)\n",
      "Requirement already satisfied: pydantic!=1.8,!=1.8.1,<3.0.0,>=1.7.4 in /Users/bdportilla1/Desktop/Bryant/MAESTRIA/Herramientas para IA/Semana 2/practica/1.3.2.1_scikit_learn/myenv/lib/python3.11/site-packages (from spacy) (2.7.0)\n",
      "Requirement already satisfied: jinja2 in /Users/bdportilla1/Desktop/Bryant/MAESTRIA/Herramientas para IA/Semana 2/practica/1.3.2.1_scikit_learn/myenv/lib/python3.11/site-packages (from spacy) (3.1.3)\n",
      "Requirement already satisfied: setuptools in /Users/bdportilla1/Desktop/Bryant/MAESTRIA/Herramientas para IA/Semana 2/practica/1.3.2.1_scikit_learn/myenv/lib/python3.11/site-packages (from spacy) (65.5.0)\n",
      "Requirement already satisfied: packaging>=20.0 in /Users/bdportilla1/Desktop/Bryant/MAESTRIA/Herramientas para IA/Semana 2/practica/1.3.2.1_scikit_learn/myenv/lib/python3.11/site-packages (from spacy) (24.0)\n",
      "Requirement already satisfied: langcodes<4.0.0,>=3.2.0 in /Users/bdportilla1/Desktop/Bryant/MAESTRIA/Herramientas para IA/Semana 2/practica/1.3.2.1_scikit_learn/myenv/lib/python3.11/site-packages (from spacy) (3.3.0)\n",
      "Requirement already satisfied: numpy>=1.19.0 in /Users/bdportilla1/Desktop/Bryant/MAESTRIA/Herramientas para IA/Semana 2/practica/1.3.2.1_scikit_learn/myenv/lib/python3.11/site-packages (from spacy) (1.26.4)\n",
      "Requirement already satisfied: annotated-types>=0.4.0 in /Users/bdportilla1/Desktop/Bryant/MAESTRIA/Herramientas para IA/Semana 2/practica/1.3.2.1_scikit_learn/myenv/lib/python3.11/site-packages (from pydantic!=1.8,!=1.8.1,<3.0.0,>=1.7.4->spacy) (0.6.0)\n",
      "Requirement already satisfied: pydantic-core==2.18.1 in /Users/bdportilla1/Desktop/Bryant/MAESTRIA/Herramientas para IA/Semana 2/practica/1.3.2.1_scikit_learn/myenv/lib/python3.11/site-packages (from pydantic!=1.8,!=1.8.1,<3.0.0,>=1.7.4->spacy) (2.18.1)\n",
      "Requirement already satisfied: typing-extensions>=4.6.1 in /Users/bdportilla1/Desktop/Bryant/MAESTRIA/Herramientas para IA/Semana 2/practica/1.3.2.1_scikit_learn/myenv/lib/python3.11/site-packages (from pydantic!=1.8,!=1.8.1,<3.0.0,>=1.7.4->spacy) (4.11.0)\n",
      "Requirement already satisfied: charset-normalizer<4,>=2 in /Users/bdportilla1/Desktop/Bryant/MAESTRIA/Herramientas para IA/Semana 2/practica/1.3.2.1_scikit_learn/myenv/lib/python3.11/site-packages (from requests<3.0.0,>=2.13.0->spacy) (3.3.2)\n",
      "Requirement already satisfied: idna<4,>=2.5 in /Users/bdportilla1/Desktop/Bryant/MAESTRIA/Herramientas para IA/Semana 2/practica/1.3.2.1_scikit_learn/myenv/lib/python3.11/site-packages (from requests<3.0.0,>=2.13.0->spacy) (3.7)\n",
      "Requirement already satisfied: urllib3<3,>=1.21.1 in /Users/bdportilla1/Desktop/Bryant/MAESTRIA/Herramientas para IA/Semana 2/practica/1.3.2.1_scikit_learn/myenv/lib/python3.11/site-packages (from requests<3.0.0,>=2.13.0->spacy) (2.2.1)\n",
      "Requirement already satisfied: certifi>=2017.4.17 in /Users/bdportilla1/Desktop/Bryant/MAESTRIA/Herramientas para IA/Semana 2/practica/1.3.2.1_scikit_learn/myenv/lib/python3.11/site-packages (from requests<3.0.0,>=2.13.0->spacy) (2024.2.2)\n",
      "Requirement already satisfied: blis<0.8.0,>=0.7.8 in /Users/bdportilla1/Desktop/Bryant/MAESTRIA/Herramientas para IA/Semana 2/practica/1.3.2.1_scikit_learn/myenv/lib/python3.11/site-packages (from thinc<8.3.0,>=8.2.2->spacy) (0.7.11)\n",
      "Requirement already satisfied: confection<1.0.0,>=0.0.1 in /Users/bdportilla1/Desktop/Bryant/MAESTRIA/Herramientas para IA/Semana 2/practica/1.3.2.1_scikit_learn/myenv/lib/python3.11/site-packages (from thinc<8.3.0,>=8.2.2->spacy) (0.1.4)\n",
      "Requirement already satisfied: click<9.0.0,>=7.1.1 in /Users/bdportilla1/Desktop/Bryant/MAESTRIA/Herramientas para IA/Semana 2/practica/1.3.2.1_scikit_learn/myenv/lib/python3.11/site-packages (from typer<0.10.0,>=0.3.0->spacy) (8.1.7)\n",
      "Requirement already satisfied: cloudpathlib<0.17.0,>=0.7.0 in /Users/bdportilla1/Desktop/Bryant/MAESTRIA/Herramientas para IA/Semana 2/practica/1.3.2.1_scikit_learn/myenv/lib/python3.11/site-packages (from weasel<0.4.0,>=0.1.0->spacy) (0.16.0)\n",
      "Requirement already satisfied: MarkupSafe>=2.0 in /Users/bdportilla1/Desktop/Bryant/MAESTRIA/Herramientas para IA/Semana 2/practica/1.3.2.1_scikit_learn/myenv/lib/python3.11/site-packages (from jinja2->spacy) (2.1.5)\n",
      "Collecting es-core-news-sm==3.7.0\n",
      "  Downloading https://github.com/explosion/spacy-models/releases/download/es_core_news_sm-3.7.0/es_core_news_sm-3.7.0-py3-none-any.whl (12.9 MB)\n",
      "\u001b[2K     \u001b[91m━━━━━━━━━━━\u001b[0m\u001b[91m╸\u001b[0m\u001b[90m━━━━━━━━━━━━━━━━━━━━━━━━━━━━\u001b[0m \u001b[32m3.9/12.9 MB\u001b[0m \u001b[31m3.8 MB/s\u001b[0m eta \u001b[36m0:00:03\u001b[0m"
     ]
    }
   ],
   "source": [
    "!pip install spacy\n",
    "!python -m spacy download es_core_news_sm"
   ]
  },
  {
   "cell_type": "code",
   "execution_count": 3,
   "id": "6f0cdd9e-8fa4-4cc2-bd6d-76969da26cde",
   "metadata": {},
   "outputs": [],
   "source": [
    "# Cargar el modelo en español\n",
    "nlp = spacy.load(\"es_core_news_sm\")"
   ]
  },
  {
   "cell_type": "code",
   "execution_count": 11,
   "id": "37a5707d-ec26-4188-9975-00f9b76c206a",
   "metadata": {},
   "outputs": [
    {
     "name": "stdout",
     "output_type": "stream",
     "text": [
      "Oración 1: Como ya no estaba matriculado y no tenía clases obligatorias, decidí atender al curso de caligrafía para aprender cómo se hacía.\n",
      "Número de palabras: 128\n",
      "\n",
      "\n",
      "Oración 2: Aprendí cosas sobre el serif y tipografías sans serif, sobre los espacios variables entre letras, sobre qué hace realmente grande a una gran tipografía.\n",
      "Número de palabras: 152\n",
      "\n",
      "\n",
      "Oración 3: Era sutilmente bello, histórica y artísticamente, de una forma que la ciencia no puede capturar, y lo encontré fascinante.\n",
      "Número de palabras: 122\n",
      "\n",
      "\n",
      "Oración 4: Nada de esto tenía ni la más mínima esperanza de aplicación práctica en mi vida.\n",
      "Número de palabras: 80\n",
      "\n",
      "\n",
      "Oración 5: Pero diez años más tarde, cuando estábamos diseñando el primer ordenador Macintosh, todo eso volvió a mí.\n",
      "Número de palabras: 105\n",
      "\n",
      "\n",
      "Oración 6: Y diseñamos el Mac con eso en su esencia.\n",
      "Número de palabras: 41\n",
      "\n",
      "\n",
      "Oración 7: Fue el primer ordenador con tipografías bellas.\n",
      "Número de palabras: 47\n",
      "\n",
      "\n",
      "Oración 8: Si nunca me hubiera dejado caer por aquel curso concreto en la universidad, el Mac jamás habría tenido múltiples tipografías, ni caracteres con espaciado proporcional.\n",
      "Número de palabras: 167\n",
      "\n",
      "\n",
      "Oración 9: Y como Windows no hizo más que copiar el Mac, es probable que ningún ordenador personal los tuviera ahora.\n",
      "Número de palabras: 106\n",
      "\n",
      "\n",
      "Oración 10: Si nunca hubiera decidido dejarlo, no habría entrado en esa clase de caligrafía y los ordenadores personales no tendrían la maravillosa tipografía que poseen.\n",
      "\n",
      "Número de palabras: 159\n",
      "\n",
      "\n"
     ]
    }
   ],
   "source": [
    "# Lectura archivo a procesar\n",
    "with open(\"discurso.txt\", \"r\", encoding=\"utf-8\") as file:\n",
    "    texto = file.read()\n",
    "\n",
    "# Procesar con spacy mijin\n",
    "doc = nlp(texto)\n",
    "\n",
    "# Dividir en oraciones y contar palabras\n",
    "for i, linea in enumerate(doc.sents):\n",
    "    cadena = str(linea)\n",
    "    print(f\"Oración {i+1}: {cadena}\")\n",
    "    print(f\"Número de palabras: {len(cadena)}\")\n",
    "    print(\"\\n\")"
   ]
  },
  {
   "cell_type": "code",
   "execution_count": null,
   "id": "67ecc590-4cfe-4cf7-a046-63e8d934e0e9",
   "metadata": {},
   "outputs": [],
   "source": []
  }
 ],
 "metadata": {
  "kernelspec": {
   "display_name": "Python 3 (ipykernel)",
   "language": "python",
   "name": "python3"
  },
  "language_info": {
   "codemirror_mode": {
    "name": "ipython",
    "version": 3
   },
   "file_extension": ".py",
   "mimetype": "text/x-python",
   "name": "python",
   "nbconvert_exporter": "python",
   "pygments_lexer": "ipython3",
   "version": "3.11.5"
  }
 },
 "nbformat": 4,
 "nbformat_minor": 5
}
